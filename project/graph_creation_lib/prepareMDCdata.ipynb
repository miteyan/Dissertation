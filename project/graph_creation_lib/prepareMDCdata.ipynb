{
 "cells": [
  {
   "cell_type": "markdown",
   "metadata": {},
   "source": [
    "# Parse the gps and gpswlan data from the MDCDB to the standard csv format"
   ]
  },
  {
   "cell_type": "code",
   "execution_count": 1,
   "metadata": {},
   "outputs": [],
   "source": [
    "import pandas as pd\n",
    "gpswlan = pd.read_csv('/var/storage/Datasets/mdc/nokia_dataset/mdcdb/mdcdb_1003/gpswlan.csv', sep='\\t')"
   ]
  },
  {
   "cell_type": "code",
   "execution_count": 2,
   "metadata": {},
   "outputs": [
    {
     "name": "stderr",
     "output_type": "stream",
     "text": [
      "/usr/local/lib/python3.5/dist-packages/IPython/core/interactiveshell.py:2728: DtypeWarning: Columns (4,7,9,10,11) have mixed types. Specify dtype option on import or set low_memory=False.\n",
      "  interactivity=interactivity, compiler=compiler, result=result)\n"
     ]
    },
    {
     "name": "stdout",
     "output_type": "stream",
     "text": [
      "(11077060, 12)    79237733  1252269937    7.2    46.1 1269.0  \\N \\N.1 3.55999994278  \\\n",
      "0  79237735  1252269947  7.200  46.100   1269  \\N   \\N          3.57   \n",
      "1  79237739  1252269957  7.200  46.100   1269  \\N   \\N          3.58   \n",
      "2  80235202  1252932684  6.565  46.524    460  \\N   \\N             5   \n",
      "3  80235205  1252932694  6.565  46.524    460  \\N   \\N          5.01   \n",
      "4  78765373  1251869655  6.621  46.521    487  \\N   \\N          1.47   \n",
      "5  78765374  1251869665  6.621  46.521    489  \\N   \\N          1.42   \n",
      "6  78765378  1251869675  6.621  46.521    489  \\N   \\N          1.42   \n",
      "7  78765379  1251869685  6.621  46.521    489  \\N   \\N          3.75   \n",
      "8  78780369  1251890415  6.560  46.510  462.5  \\N   \\N          1.43   \n",
      "9  78780373  1251890425  6.560  46.510  462.5  \\N   \\N          3.01   \n",
      "\n",
      "   146.48727417   1.0 1.0.1 155.0  \n",
      "0     92.526222     1     1   165  \n",
      "1    131.370636     1     4   175  \n",
      "2    359.116455     1    18   277  \n",
      "3    174.380981     1     6   287  \n",
      "4    101.016594  0.88    44    31  \n",
      "5     65.183441     1  14.5    41  \n",
      "6     79.288780     1   4.5    51  \n",
      "7    109.144714  2.08  92.5    61  \n",
      "8     90.888519  0.79     6   187  \n",
      "9    147.030655     1     2   197  \n"
     ]
    }
   ],
   "source": [
    "gps = pd.read_csv('/var/storage/Datasets/mdc/nokia_dataset/mdcdb/mdcdb_1003/gps.csv', sep='\\t')\n",
    "print(gps.shape, gps.head(n=10))"
   ]
  },
  {
   "cell_type": "code",
   "execution_count": 3,
   "metadata": {},
   "outputs": [],
   "source": [
    "gpswlan.columns = ['db_key', 'lat', 'lon', 'mac']"
   ]
  },
  {
   "cell_type": "code",
   "execution_count": 4,
   "metadata": {},
   "outputs": [],
   "source": [
    "gps.columns = ['db_key', 'time', 'lat', 'lon', 'alt', 'speed', 'hor_acc', 'hor_dop', 'vert_acc', 'vert_dop', 'speed_acc', 'time_since_gps_boot'] "
   ]
  },
  {
   "cell_type": "code",
   "execution_count": 5,
   "metadata": {},
   "outputs": [],
   "source": [
    "records = pd.read_csv('/var/storage/Datasets/mdc/nokia_dataset/mdcdb/mdcdb_1003/records.csv', sep='\\t')\n"
   ]
  },
  {
   "cell_type": "code",
   "execution_count": 6,
   "metadata": {},
   "outputs": [],
   "source": [
    "records.columns = ['db_key', 'user_id', 'time', 'tz', 'type']"
   ]
  },
  {
   "cell_type": "code",
   "execution_count": 7,
   "metadata": {},
   "outputs": [],
   "source": [
    "records = records[records['type'].isin(['gps', 'gpswlan'])][['db_key', 'user_id', 'time', 'type']]"
   ]
  },
  {
   "cell_type": "code",
   "execution_count": 8,
   "metadata": {},
   "outputs": [
    {
     "name": "stdout",
     "output_type": "stream",
     "text": [
      "        db_key  user_id        time type\n",
      "0    273201391     6037  1278974031  gps\n",
      "1    137279439     5993  1257743239  gps\n",
      "59   145805904     5977  1263753367  gps\n",
      "60   166112967     5944  1266360885  gps\n",
      "101  157132410     5963  1265132027  gps\n",
      "102  346602756     5542  1293524710  gps\n",
      "103  289210488     6028  1282765849  gps\n",
      "104  222772992     5938  1272952171  gps\n",
      "143  189937676     6038  1269449035  gps\n",
      "144  135472453     5980  1261337127  gps\n"
     ]
    }
   ],
   "source": [
    "print(records.head(n=10))\n",
    "records.to_csv('/var/storage/sandra/mdc_analysis/mdc_data/db_key_user_id_time.csv')"
   ]
  },
  {
   "cell_type": "code",
   "execution_count": 9,
   "metadata": {},
   "outputs": [],
   "source": [
    "dict_user_id = pd.Series(records.user_id.values, index=records.db_key).to_dict()\n",
    "dict_time = pd.Series(records.time.values, index=records.db_key).to_dict()"
   ]
  },
  {
   "cell_type": "code",
   "execution_count": 10,
   "metadata": {},
   "outputs": [],
   "source": [
    "gpswlan['time'] = gpswlan['db_key'].map(dict_time)\n",
    "gpswlan['user_id'] = gpswlan['db_key'].map(dict_user_id)\n",
    "gps['user_id'] = gps['db_key'].map(dict_user_id)"
   ]
  },
  {
   "cell_type": "code",
   "execution_count": 12,
   "metadata": {},
   "outputs": [
    {
     "name": "stdout",
     "output_type": "stream",
     "text": [
      "     db_key       lat        lon  \\\n",
      "0  78636921  6.653566  46.523443   \n",
      "1  78636934  6.653508  46.523557   \n",
      "2  78636941  6.653240  46.523488   \n",
      "3  78636954  6.653240  46.523488   \n",
      "4  78636965  6.653240  46.523488   \n",
      "5  78636971  6.653826  46.523396   \n",
      "6  78636979  6.653366  46.523588   \n",
      "7  78636989  6.653240  46.523488   \n",
      "8  78636997  6.653366  46.523588   \n",
      "9  78637005  6.653508  46.523557   \n",
      "\n",
      "                                                 mac          time  user_id  \n",
      "0  00:00:c5-5716c19a331aec2f78038e1251ffe1cb0fe5e...  1.251760e+09   5479.0  \n",
      "1  00:22:b0-28a1f87ff0bfe82a491ae68c5e657d1162a25...  1.251760e+09   5479.0  \n",
      "2  00:24:37-f82d3ae5f904f5ca6ab861f4edb6f33a292de...  1.251760e+09   5479.0  \n",
      "3  00:24:37-f82d3ae5f904f5ca6ab861f4edb6f33a292de...  1.251760e+09   5479.0  \n",
      "4  00:24:37-f82d3ae5f904f5ca6ab861f4edb6f33a292de...  1.251760e+09   5479.0  \n",
      "5  00:18:9b-b33610a85bf13942d883186d9674713e0033f...  1.251760e+09   5479.0  \n",
      "6  00:0f:cc-45b1191dc8cb0e279457daa97b042206a8c17...  1.251760e+09   5479.0  \n",
      "7  00:24:37-f82d3ae5f904f5ca6ab861f4edb6f33a292de...  1.251761e+09   5479.0  \n",
      "8  00:0f:cc-45b1191dc8cb0e279457daa97b042206a8c17...  1.251761e+09   5479.0  \n",
      "9  00:22:b0-28a1f87ff0bfe82a491ae68c5e657d1162a25...  1.251761e+09   5479.0  \n",
      "        user_id          time   lat    lon\n",
      "697544   5448.0  1.257148e+09  6.56  46.51\n",
      "697545   5448.0  1.257148e+09  6.56  46.51\n",
      "697546   5448.0  1.257148e+09  6.56  46.51\n",
      "697548   5448.0  1.257149e+09  6.56  46.51\n",
      "697549   5448.0  1.257149e+09  6.56  46.51\n",
      "697550   5448.0  1.257149e+09  6.56  46.51\n",
      "697551   5448.0  1.257149e+09  6.56  46.51\n",
      "697552   5448.0  1.257149e+09  6.56  46.51\n",
      "697553   5448.0  1.257149e+09  6.56  46.51\n",
      "697554   5448.0  1.257149e+09  6.56  46.51\n"
     ]
    }
   ],
   "source": [
    "print(gpswlan.head(n=10))\n",
    "gpswlan = gpswlan.sort_values(['user_id', 'time'], ascending=[1, 1])\n",
    "gpswlan = gpswlan[['user_id', 'time', 'lat', 'lon']]\n",
    "print(gpswlan.head(n=10))"
   ]
  },
  {
   "cell_type": "code",
   "execution_count": 13,
   "metadata": {},
   "outputs": [
    {
     "name": "stdout",
     "output_type": "stream",
     "text": [
      "        user_id        time       lat        lon\n",
      "512287   5448.0  1257004540  6.632476  46.520321\n",
      "512288   5448.0  1257006877  6.592562  46.523943\n",
      "512289   5448.0  1257006886  6.594179  46.524187\n",
      "512290   5448.0  1257006897  6.596068  46.523909\n",
      "512291   5448.0  1257006906  6.598078  46.523439\n",
      "512292   5448.0  1257006916  6.600007  46.523223\n",
      "512293   5448.0  1257006926  6.601000  46.523000\n",
      "512294   5448.0  1257006936  6.601000  46.523000\n",
      "512296   5448.0  1257006946  6.602030  46.523807\n",
      "512297   5448.0  1257006957  6.603912  46.524010\n"
     ]
    }
   ],
   "source": [
    "gps = gps.sort_values(['user_id', 'time'], ascending=[1, 1])\n",
    "gps = gps[['user_id', 'time', 'lat', 'lon']]\n",
    "print(gps.head(n=10))"
   ]
  },
  {
   "cell_type": "code",
   "execution_count": 14,
   "metadata": {},
   "outputs": [],
   "source": [
    "gps.to_csv('/var/storage/sandra/mdc_analysis/mdc_data/nokia_data_gps.csv', index=False)"
   ]
  },
  {
   "cell_type": "code",
   "execution_count": 15,
   "metadata": {},
   "outputs": [],
   "source": [
    "gpswlan.to_csv('/var/storage/sandra/mdc_analysis/mdc_data/nokia_data_gpswlan.csv', index=False)"
   ]
  },
  {
   "cell_type": "code",
   "execution_count": null,
   "metadata": {},
   "outputs": [],
   "source": []
  }
 ],
 "metadata": {
  "kernelspec": {
   "display_name": "Python 3",
   "language": "python",
   "name": "python3"
  },
  "language_info": {
   "codemirror_mode": {
    "name": "ipython",
    "version": 3
   },
   "file_extension": ".py",
   "mimetype": "text/x-python",
   "name": "python",
   "nbconvert_exporter": "python",
   "pygments_lexer": "ipython3",
   "version": "3.5.2"
  }
 },
 "nbformat": 4,
 "nbformat_minor": 2
}
